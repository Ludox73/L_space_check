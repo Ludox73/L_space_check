{
 "cells": [
  {
   "cell_type": "markdown",
   "metadata": {},
   "source": [
    "With this code, a proof that all the manifolds that we could not prove that are L-spaces with our code admit a coorientable taut foliation is found. When these manifolds also admit a taut foliation with vanishing euler class, they have orderable fundamental group. See Dunfield's paper for the details."
   ]
  },
  {
   "cell_type": "code",
   "execution_count": 1,
   "metadata": {},
   "outputs": [],
   "source": [
    "import snappy, foliar\n",
    "from foliar import util\n",
    "import snappy.snap.t3mlite as t3m"
   ]
  },
  {
   "cell_type": "code",
   "execution_count": 2,
   "metadata": {},
   "outputs": [],
   "source": [
    "with_fol=set([])\n",
    "with_fol_eu_van=set([])"
   ]
  },
  {
   "cell_type": "code",
   "execution_count": 3,
   "metadata": {},
   "outputs": [
    {
     "name": "stdout",
     "output_type": "stream",
     "text": [
      "1\n",
      "Found cooriented taut foliation.\n",
      "3\n",
      "Found cooriented taut foliation.\n",
      "4\n",
      "Found cooriented taut foliation.\n",
      "5\n",
      "Found cooriented taut foliation.\n",
      "6\n",
      "Found cooriented taut foliation.\n",
      "7\n",
      "Found cooriented taut foliation.\n",
      "9\n",
      "Found cooriented taut foliation.\n",
      "10\n",
      "Found cooriented taut foliation.\n",
      "12\n",
      "Found cooriented taut foliation.\n",
      "13\n",
      "Found cooriented taut foliation.\n",
      "14\n",
      "Found cooriented taut foliation.\n",
      "16\n",
      "Found cooriented taut foliation.\n",
      "17\n",
      "Found cooriented taut foliation.\n",
      "18\n",
      "Found cooriented taut foliation.\n",
      "19\n",
      "Found cooriented taut foliation.\n",
      "20\n",
      "Found cooriented taut foliation.\n",
      "21\n",
      "Found cooriented taut foliation.\n",
      "22\n",
      "Found cooriented taut foliation.\n",
      "23\n",
      "Found cooriented taut foliation.\n",
      "24\n",
      "Found cooriented taut foliation.\n",
      "25\n",
      "Found cooriented taut foliation.\n",
      "26\n",
      "Found cooriented taut foliation.\n",
      "27\n",
      "Found cooriented taut foliation.\n"
     ]
    }
   ],
   "source": [
    "indices_L_spaces=[0,2,8,11,15,28]\n",
    "for h in range(0,29):\n",
    "    if h not in indices_L_spaces:\n",
    "        print(h)\n",
    "        M=snappy.CubicalOrientableClosedCensus(betti=0)[h]\n",
    "        have_one=foliar.first_foliation(M,20,40)\n",
    "        if have_one is not None:\n",
    "            with_fol.add(h)\n",
    "            print(\"Found cooriented taut foliation.\")"
   ]
  },
  {
   "cell_type": "code",
   "execution_count": 4,
   "metadata": {},
   "outputs": [
    {
     "name": "stdout",
     "output_type": "stream",
     "text": [
      "1\n",
      "3\n",
      "Found foliation with vanishing euler class.\n",
      "4\n",
      "Found foliation with vanishing euler class.\n",
      "5\n",
      "6\n",
      "7\n",
      "Found foliation with vanishing euler class.\n",
      "9\n",
      "Found foliation with vanishing euler class.\n",
      "10\n",
      "12\n",
      "Found foliation with vanishing euler class.\n",
      "13\n",
      "14\n",
      "Found foliation with vanishing euler class.\n",
      "16\n",
      "17\n",
      "Found foliation with vanishing euler class.\n",
      "18\n",
      "Found foliation with vanishing euler class.\n",
      "19\n",
      "Found foliation with vanishing euler class.\n",
      "20\n",
      "21\n",
      "Found foliation with vanishing euler class.\n",
      "22\n",
      "23\n",
      "Found foliation with vanishing euler class.\n",
      "24\n",
      "Found foliation with vanishing euler class.\n",
      "25\n",
      "Found foliation with vanishing euler class.\n",
      "26\n",
      "Found foliation with vanishing euler class.\n",
      "27\n",
      "Found foliation with vanishing euler class.\n"
     ]
    }
   ],
   "source": [
    "for h in range(0,29):\n",
    "    found_eu_vanish=False\n",
    "    found_foliation=False\n",
    "    if h not in indices_L_spaces:\n",
    "        print(h)\n",
    "        M=snappy.CubicalOrientableClosedCensus(betti=0)[h]\n",
    "        K=util.closed_isosigs(M, 20,40)\n",
    "        for iso in K[:10]:\n",
    "            if found_eu_vanish==False:\n",
    "                if foliar.edge_orient.has_taut_fol_with_euler_0(iso):\n",
    "                    print(\"Found foliation with vanishing euler class.\")\n",
    "                    found_eu_vanish=True\n",
    "                    with_fol_eu_van.add(h)"
   ]
  },
  {
   "cell_type": "code",
   "execution_count": 5,
   "metadata": {},
   "outputs": [
    {
     "name": "stdout",
     "output_type": "stream",
     "text": [
      "set([1, 3, 4, 5, 6, 7, 9, 10, 12, 13, 14, 16, 17, 18, 19, 20, 21, 22, 23, 24, 25, 26, 27])\n"
     ]
    }
   ],
   "source": [
    "print(with_fol)"
   ]
  },
  {
   "cell_type": "code",
   "execution_count": 6,
   "metadata": {},
   "outputs": [
    {
     "name": "stdout",
     "output_type": "stream",
     "text": [
      "set([3, 4, 7, 9, 12, 14, 17, 18, 19, 21, 23, 24, 25, 26, 27])\n"
     ]
    }
   ],
   "source": [
    "print(with_fol_eu_van)"
   ]
  },
  {
   "cell_type": "code",
   "execution_count": null,
   "metadata": {},
   "outputs": [],
   "source": []
  }
 ],
 "metadata": {
  "kernelspec": {
   "display_name": "SageMath 8.6",
   "language": "",
   "name": "sagemath"
  },
  "language_info": {
   "codemirror_mode": {
    "name": "ipython",
    "version": 2
   },
   "file_extension": ".py",
   "mimetype": "text/x-python",
   "name": "python",
   "nbconvert_exporter": "python",
   "pygments_lexer": "ipython2",
   "version": "2.7.15"
  }
 },
 "nbformat": 4,
 "nbformat_minor": 2
}
