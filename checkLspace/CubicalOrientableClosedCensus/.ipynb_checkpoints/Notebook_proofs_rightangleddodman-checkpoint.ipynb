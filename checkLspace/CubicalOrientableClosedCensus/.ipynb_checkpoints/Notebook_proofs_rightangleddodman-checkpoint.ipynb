{
 "cells": [
  {
   "cell_type": "code",
   "execution_count": 1,
   "metadata": {},
   "outputs": [
    {
     "name": "stdout",
     "output_type": "stream",
     "text": [
      "/home/sage\n"
     ]
    }
   ],
   "source": [
    "cd"
   ]
  },
  {
   "cell_type": "code",
   "execution_count": 2,
   "metadata": {},
   "outputs": [
    {
     "name": "stdout",
     "output_type": "stream",
     "text": [
      "/home/sage/checkLspace\n"
     ]
    }
   ],
   "source": [
    "cd checkLspace/"
   ]
  },
  {
   "cell_type": "code",
   "execution_count": 3,
   "metadata": {},
   "outputs": [],
   "source": [
    "from checkLspace import *"
   ]
  },
  {
   "cell_type": "code",
   "execution_count": 4,
   "metadata": {},
   "outputs": [],
   "source": [
    "from snappy import *"
   ]
  },
  {
   "cell_type": "code",
   "execution_count": 5,
   "metadata": {},
   "outputs": [
    {
     "name": "stdout",
     "output_type": "stream",
     "text": [
      "/home/sage/checkLspace/src\n"
     ]
    }
   ],
   "source": [
    "cd src/"
   ]
  },
  {
   "cell_type": "code",
   "execution_count": 6,
   "metadata": {},
   "outputs": [],
   "source": [
    "from turaev import *\n",
    "from slopes import *"
   ]
  },
  {
   "cell_type": "code",
   "execution_count": 7,
   "metadata": {},
   "outputs": [
    {
     "name": "stdout",
     "output_type": "stream",
     "text": [
      "/home/sage\n"
     ]
    }
   ],
   "source": [
    "cd"
   ]
  },
  {
   "cell_type": "code",
   "execution_count": 8,
   "metadata": {},
   "outputs": [
    {
     "name": "stdout",
     "output_type": "stream",
     "text": [
      "/home/sage/checkLspace/CubicalOrientableClosedCensus\n"
     ]
    }
   ],
   "source": [
    "cd checkLspace/CubicalOrientableClosedCensus"
   ]
  },
  {
   "cell_type": "code",
   "execution_count": 9,
   "metadata": {},
   "outputs": [
    {
     "name": "stdout",
     "output_type": "stream",
     "text": [
      "Inizializing...\n",
      ": M has volume 8.61242... and homology Z/11 + Z/11\n",
      ": Computing Turaev torsion drilling...\n",
      "1: The manifold T filled with (0, 1) is [v3257(-3,2)], its L-space value is 1\n",
      "2: Found in fillings another one: the manifold T filled with (1, 1) is [v3528(-3,1)]: its L-space value is 1\n"
     ]
    },
    {
     "data": {
      "text/plain": [
       "True"
      ]
     },
     "execution_count": 9,
     "metadata": {},
     "output_type": "execute_result"
    }
   ],
   "source": [
    "M=CubicalOrientableClosedCensus(betti=0)[0]\n",
    "is_certified_L_space(M, save_QHT=True, path_save_QHT=\"./proofs/RA_dod_0/\")"
   ]
  },
  {
   "cell_type": "code",
   "execution_count": 10,
   "metadata": {},
   "outputs": [
    {
     "name": "stdout",
     "output_type": "stream",
     "text": [
      "Inizializing...\n",
      ": M has volume 8.61242... and homology Z/4 + Z/28\n",
      ": Computing Turaev torsion drilling...\n",
      "1: T(-2, 3) has volume 6.35459... and homology Z/2 + Z/2 + Z/16\n",
      "1: T(-2, 3) is o9_39343(1,-2), whose L-space value is known to be 1\n",
      "2: T(-1, 2) has volume 6.08965... and homology Z/4 + Z/20\n",
      "2: T(-1, 2) is o9_36584(2,-1), whose L-space value is known to be 1\n"
     ]
    },
    {
     "data": {
      "text/plain": [
       "True"
      ]
     },
     "execution_count": 10,
     "metadata": {},
     "output_type": "execute_result"
    }
   ],
   "source": [
    "M=CubicalOrientableClosedCensus(betti=0)[2]\n",
    "is_certified_L_space(M, save_QHT=True, path_save_QHT=\"./proofs/RA_dod_2/\")"
   ]
  },
  {
   "cell_type": "code",
   "execution_count": 11,
   "metadata": {},
   "outputs": [
    {
     "name": "stdout",
     "output_type": "stream",
     "text": [
      "Inizializing...\n",
      ": M has volume 17.2248... and homology Z/7 + Z/182\n",
      ": Computing Turaev torsion drilling...\n",
      "1: T(0, 1) has volume 10.1006... and homology Z/357\n",
      "1: Computing Turaev torsion drilling...\n",
      "11: The manifold T1 filled with (-1, 2) is [v3275(5,2)], its L-space value is 1\n",
      "12: T1(-2, 5) has volume 8.02128... and homology Z/214\n",
      "12: Computing Turaev torsion drilling...\n",
      "121: T12(1, 1) has volume 6.63634... and homology Z/129\n",
      "121: T12(1, 1) is t12080(1,-3), whose L-space value is known to be 1\n",
      "122: T12(0, 1) has volume 3.88361... and homology Z/85\n",
      "122: T12(0, 1) is s183(5,2), whose L-space value is known to be 1\n",
      "2: T(-1, 3) has volume 9.54563... and homology Z/203\n",
      "2: Computing Turaev torsion drilling...\n",
      "21: The manifold T2 filled with (-1, 3) is [v2742(4,1)], its L-space value is 1\n",
      "22: T2(-2, 5) has volume 5.91285... and homology Z/94\n",
      "22: T2(-2, 5) is t08159(-5,-2), whose L-space value is known to be 1\n"
     ]
    },
    {
     "data": {
      "text/plain": [
       "True"
      ]
     },
     "execution_count": 11,
     "metadata": {},
     "output_type": "execute_result"
    }
   ],
   "source": [
    "M=CubicalOrientableClosedCensus(betti=0)[8]\n",
    "is_certified_L_space(M, save_QHT=True, path_save_QHT=\"./proofs/RA_dod_8/\")"
   ]
  },
  {
   "cell_type": "code",
   "execution_count": 12,
   "metadata": {},
   "outputs": [
    {
     "name": "stdout",
     "output_type": "stream",
     "text": [
      "Inizializing...\n",
      ": M has volume 17.2248... and homology Z/2 + Z/2 + Z/120\n",
      ": Computing Turaev torsion drilling...\n",
      "1: T(0, 1) has volume 12.0064... and homology Z/4 + Z/56\n",
      "1: Computing Turaev torsion drilling...\n",
      "11: T1(-1, 3) has volume 7.46080... and homology Z/124\n",
      "11: Computing Turaev torsion drilling...\n",
      "111: The manifold T11 filled with (1, 2) is [s480(-3,2)], its L-space value is 1\n",
      "112: Found in fillings another one: the manifold T11 filled with (1, 4) is [s556(-1,3)]: its L-space value is 1\n",
      "12: T1(0, 1) has volume 6.72355... and homology Z/116\n",
      "12: T1(0, 1) is o9_32044(-2,3), whose L-space value is known to be 1\n",
      "2: T(1, 1) has volume 11.9333... and homology Z/8 + Z/32\n",
      "2: Computing Turaev torsion drilling...\n",
      "21: T2(-1, 3) has volume 5.26083... and homology Z/56\n",
      "21: T2(-1, 3) is v2298(-4,3), whose L-space value is known to be 1\n",
      "22: T2(-1, 2) has volume 2.20767... and homology Z/2 + Z/24\n",
      "22: T2(-1, 2) is m010(2,3), whose L-space value is known to be 1\n"
     ]
    },
    {
     "data": {
      "text/plain": [
       "True"
      ]
     },
     "execution_count": 12,
     "metadata": {},
     "output_type": "execute_result"
    }
   ],
   "source": [
    "M=CubicalOrientableClosedCensus(betti=0)[11]\n",
    "is_certified_L_space(M, curves_to_avoid=5, save_QHT=True, path_save_QHT=\"./proofs/RA_dod_11/\")"
   ]
  },
  {
   "cell_type": "code",
   "execution_count": 13,
   "metadata": {},
   "outputs": [
    {
     "name": "stdout",
     "output_type": "stream",
     "text": [
      "Inizializing...\n",
      ": M has volume 17.2248... and homology Z/513\n",
      ": Computing Turaev torsion drilling...\n",
      "1: T(1, 2) has volume 14.2777... and homology Z/329\n",
      "1: Computing Turaev torsion drilling...\n",
      "11: The manifold T1 filled with (-1, 2) is [s345(-1,3)], its L-space value is 1\n",
      "12: T1(0, 1) has volume 8.96606... and homology Z/143\n",
      "12: Computing Turaev torsion drilling...\n",
      "121: The manifold T12 filled with (1, 1) is [v3245(1,2)], its L-space value is 1\n",
      "122: T12(3, 5) has volume 6.30690... and homology Z/59\n",
      "122: T12(3, 5) is t12195(-1,-3), whose L-space value is known to be 1\n",
      "2: T(1, 3) has volume 13.8548... and homology Z/237\n",
      "2: Computing Turaev torsion drilling...\n",
      "21: The manifold T2 filled with (0, 1) is [v2876(-1,2)], its L-space value is 1\n",
      "22: T2(-1, 3) has volume 9.69817... and homology Z/66\n",
      "22: Computing Turaev torsion drilling...\n",
      "221: T22(-2, 3) has volume 6.51216... and homology Z/87\n",
      "221: T22(-2, 3) is o9_36980(1,2), whose L-space value is known to be 1\n",
      "222: T22(-3, 4) has volume 6.38898... and homology Z/94\n",
      "222: T22(-3, 4) is o9_34893(-3,2), whose L-space value is known to be 1\n"
     ]
    },
    {
     "data": {
      "text/plain": [
       "True"
      ]
     },
     "execution_count": 13,
     "metadata": {},
     "output_type": "execute_result"
    }
   ],
   "source": [
    "M=CubicalOrientableClosedCensus(betti=0)[15]\n",
    "is_certified_L_space(M, save_QHT=True, path_save_QHT=\"./proofs/RA_dod_15/\")"
   ]
  },
  {
   "cell_type": "code",
   "execution_count": 14,
   "metadata": {},
   "outputs": [],
   "source": [
    "M=CubicalOrientableClosedCensus(betti=0)[28]\n",
    "T=Manifold('QHT_USED_FOR_28.tri')\n",
    "T.dehn_fill((1,0))\n",
    "assert(M.is_isometric_to(T))\n",
    "T.dehn_fill((0,0))\n",
    "tau=TuraevTorsion(T)\n",
    "D=IotaInverseDtau(tau)\n",
    "X=D.non_L_space_cone([(1,-1), (0,1)])\n",
    "S=Slope((1,0))\n",
    "assert S not in X"
   ]
  },
  {
   "cell_type": "markdown",
   "metadata": {},
   "source": [
    "By the previous commands, we know that it is sufficient to prove that T(-1,1) and T(0,1) are L-spaces to conclude that T(1,0)=CubicalOrientableClosedCensus(betti=0)[28] is an L-space. We need to do this by hand because the second smallest-volume drilling found by the algorithm is not recognized as an L-space; its solution contains negatively oriented tetrahedra, and probably this creates problems."
   ]
  },
  {
   "cell_type": "code",
   "execution_count": 15,
   "metadata": {},
   "outputs": [
    {
     "name": "stdout",
     "output_type": "stream",
     "text": [
      "Inizializing...\n",
      ": M has volume 8.73857... and homology Z/2 + Z/2 + Z/16\n",
      ": Computing Turaev torsion drilling...\n",
      "1: T(1, 1) has volume 10.0450... and homology Z/2 + Z/38\n",
      "1: Computing Turaev torsion drilling...\n",
      "11: The manifold T1 filled with (0, 1) is [m007(5,1)], its L-space value is 1\n",
      "12: T1(1, 1) has volume 7.65222... and homology Z/52\n",
      "12: Computing Turaev torsion drilling...\n",
      "121: T12(-2, 3) has volume 7.74627... and homology Z/4 + Z/20\n",
      "121: Computing Turaev torsion drilling...\n",
      "1211: The manifold T121 filled with (1, 2) is [m369(1,3)], its L-space value is 1\n",
      "1212: T121(0, 1) has volume 6.35459... and homology Z/2 + Z/2 + Z/16\n",
      "1212: T121(0, 1) is o9_39054(2,-1), whose L-space value is known to be 1\n",
      "122: T12(-1, 1) has volume 5.96534... and homology Z/44\n",
      "122: T12(-1, 1) is t12499(-1,2), whose L-space value is known to be 1\n",
      "2: T(-1, 1) has volume 6.64752... and homology Z/2 + Z/26\n",
      "2: T(-1, 1) is o9_43310(-2,-1), whose L-space value is known to be 1\n"
     ]
    },
    {
     "data": {
      "text/plain": [
       "True"
      ]
     },
     "execution_count": 15,
     "metadata": {},
     "output_type": "execute_result"
    }
   ],
   "source": [
    "T.dehn_fill((1,-1))\n",
    "M=T.copy()\n",
    "is_certified_L_space(M, save_QHT=True, path_save_QHT=\"./proofs/RA_dod_28/FillingA/\", curves_to_avoid=8)"
   ]
  },
  {
   "cell_type": "code",
   "execution_count": 16,
   "metadata": {},
   "outputs": [
    {
     "name": "stdout",
     "output_type": "stream",
     "text": [
      "Inizializing...\n",
      ": M has volume 18.7405... and homology Z/2 + Z/2 + Z/80\n",
      ": Computing Turaev torsion drilling...\n",
      "1: T(1, 1) has volume 15.0470... and homology Z/2 + Z/118\n",
      "1: Computing Turaev torsion drilling...\n",
      "11: T1(-1, 3) has volume 7.77278... and homology Z/2 + Z/2 + Z/26\n",
      "11: T1(-1, 3) is o9_44242(-3,2), whose L-space value is known to be 1\n",
      "12: T1(0, 1) has volume 6.43756... and homology Z/2 + Z/22\n",
      "12: T1(0, 1) is o9_39054(1,-2), whose L-space value is known to be 1\n",
      "2: T(0, 1) has volume 10.2171... and homology Z/2 + Z/42\n",
      "2: Computing Turaev torsion drilling...\n",
      "21: T2(1, 1) has volume 11.0460... and homology Z/3 + Z/36\n",
      "21: Computing Turaev torsion drilling...\n",
      "211: The manifold T21 filled with (-1, 1) is [m007(4,1)], its L-space value is 1\n",
      "212: T21(-1, 2) has volume 3.51434... and homology Z/66\n",
      "212: T21(-1, 2) is m168(1,5), whose L-space value is known to be 1\n",
      "22: T2(-1, 1) has volume 8.28817... and homology Z/60\n",
      "22: Computing Turaev torsion drilling...\n",
      "221: T22(-1, 3) has volume 8.01805... and homology Z/2 + Z/30\n",
      "221: Computing Turaev torsion drilling...\n",
      "2211: T221(-2, 3) has volume 7.91082... and homology Z/2 + Z/2 + Z/12\n",
      "2211: Computing Turaev torsion drilling...\n",
      "22111: T2211(3, 4) has volume 7.32772... and homology Z/2 + Z/2 + Z/8\n",
      "22111: Computing Turaev torsion drilling...\n",
      "22111: Double interval..\n",
      "22111A1: T22111(1, 2) has volume 9.49189... and homology Z/2 + Z/2 + Z/8\n",
      "22111A1: Computing Turaev torsion drilling...\n",
      "22111A11: T22111A1(2, 1) has volume 11.0403... and homology Z/2 + Z/42\n",
      "22111A11: Computing Turaev torsion drilling...\n",
      "22111A111: The manifold T22111A11 filled with (0, 1) is [v2553(-4,1)], its L-space value is -1\n",
      "22111B1: T22111(8, 5) has volume 8.92932... and homology Z/4 + Z/24\n",
      "22111B1: Computing Turaev torsion drilling...\n",
      "22111B11: T22111B1(2, 3) has volume 9.26762... and homology Z/108\n",
      "22111B11: Computing Turaev torsion drilling...\n",
      "22111B111: The manifold T22111B11 filled with (-1, 3) is [v3210(-1,2)], its L-space value is 1\n",
      "22111B112: T22111B11(-1, 1) has volume 7.43877... and homology Z/80\n",
      "22111B112: Computing Turaev torsion drilling...\n",
      "22111B1121: T22111B112(2, 3) has volume 7.54166... and homology Z/5 + Z/20\n",
      "22111B1121: Computing Turaev torsion drilling...\n",
      "22111B11211: The manifold T22111B1121 filled with (0, 1) is [s960(-1,3)], its L-space value is 1\n",
      "22111B11212: T22111B1121(-2, 5) has volume 8.46538... and homology Z/10 + Z/10\n",
      "22111B11212: Computing Turaev torsion drilling...\n",
      "22111B112121: T22111B11212(2, 3) has volume 8.11424... and homology Z/80\n",
      "22111B112121: Computing Turaev torsion drilling...\n",
      "22111B1121211: The manifold T22111B112121 filled with (1, 2) is [v3493(-1,2)], its L-space value is 1\n",
      "22111B1121212: T22111B112121(0, 1) has volume 7.32772... and homology Z/8 + Z/8\n",
      "22111B1121212: Computing Turaev torsion drilling...\n",
      "22111B11212121: The manifold T22111B1121212 filled with (-2, 1) is [v3238(-3,2)], its L-space value is 1\n",
      "22111B11212122: T22111B1121212(-3, 2) has volume 6.02305... and homology Z/2 + Z/40\n",
      "22111B11212122: T22111B1121212(-3, 2) is o9_32631(-1,2), whose L-space value is known to be 1\n",
      "22111B112122: T22111B11212(1, 1) has volume 6.23920... and homology Z/60\n",
      "22111B112122: T22111B11212(1, 1) is o9_25889(1,-3), whose L-space value is known to be 1\n",
      "22111B1122: T22111B112(1, 1) has volume 5.91710... and homology Z/2 + Z/30\n",
      "22111B1122: T22111B112(1, 1) is t11705(1,-2), whose L-space value is known to be 1\n",
      "22111B12: T22111B1(1, 1) has volume 6.83287... and homology Z/68\n",
      "22111B12: T22111B1(1, 1) is o9_40669(-3,1), whose L-space value is known to be 1\n",
      "22111B2: T22111(5, 3) has volume 7.32772... and homology Z/8 + Z/8\n",
      "22111B2: Computing Turaev torsion drilling...\n",
      "22111B21: The manifold T22111B2 filled with (-1, 1) is [v3210(-1,2)], its L-space value is 1\n",
      "22111B22: T22111B2(1, 1) has volume 8.80631... and homology Z/104\n",
      "22111B22: Computing Turaev torsion drilling...\n",
      "22111B221: T22111B22(2, 3) has volume 8.75652... and homology Z/127\n",
      "22111B221: Computing Turaev torsion drilling...\n",
      "22111B2211: The manifold T22111B221 filled with (0, 1) is [m007(5,2)], its L-space value is 1\n",
      "22111B2212: T22111B221(1, 1) has volume 7.31355... and homology Z/94\n",
      "22111B2212: T22111B221(1, 1) is o9_43882(-3,1), whose L-space value is known to be 1\n",
      "22111B222: T22111B22(1, 1) has volume 7.13230... and homology Z/77\n",
      "22111B222: T22111B22(1, 1) is o9_43980(2,-1), whose L-space value is known to be 1\n",
      "22112: T2211(2, 3) has volume 5.84391... and homology Z/2 + Z/18\n",
      "22112: T2211(2, 3) is o9_39345(-2,-1), whose L-space value is known to be 1\n",
      "2212: T221(-1, 1) has volume 5.80976... and homology Z/6 + Z/6\n",
      "2212: T221(-1, 1) is o9_39345(2,-1), whose L-space value is known to be 1\n",
      "222: T22(0, 1) has volume 5.86628... and homology Z/40\n",
      "222: T22(0, 1) is o9_34481(-3,-1), whose L-space value is known to be 1\n"
     ]
    },
    {
     "data": {
      "text/plain": [
       "True"
      ]
     },
     "execution_count": 16,
     "metadata": {},
     "output_type": "execute_result"
    }
   ],
   "source": [
    "T.dehn_fill((0,1))\n",
    "M=T.copy()\n",
    "is_certified_L_space(M, save_QHT=True, path_save_QHT=\"./proofs/RA_dod_28/FillingB/\")"
   ]
  },
  {
   "cell_type": "code",
   "execution_count": null,
   "metadata": {},
   "outputs": [],
   "source": []
  }
 ],
 "metadata": {
  "kernelspec": {
   "display_name": "Python 3 (ipykernel)",
   "language": "python",
   "name": "python3"
  },
  "language_info": {
   "codemirror_mode": {
    "name": "ipython",
    "version": 3
   },
   "file_extension": ".py",
   "mimetype": "text/x-python",
   "name": "python",
   "nbconvert_exporter": "python",
   "pygments_lexer": "ipython3",
   "version": "3.10.6"
  }
 },
 "nbformat": 4,
 "nbformat_minor": 4
}
